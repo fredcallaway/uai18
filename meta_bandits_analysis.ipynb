{
 "cells": [
  {
   "cell_type": "code",
   "execution_count": 1,
   "metadata": {},
   "outputs": [],
   "source": [
    "%matplotlib inline\n",
    "%load_ext autoreload\n",
    "%autoreload 2\n",
    "\n",
    "import matplotlib.pyplot as plt\n",
    "import numpy as np\n",
    "import pandas as pd\n",
    "import seaborn as sns\n",
    "import scipy.stats\n",
    "from joblib import Parallel, delayed\n",
    "sns.set_style('white')\n",
    "sns.set_context('notebook', font_scale=1.3)\n",
    "\n",
    "from agents import Agent\n",
    "from mouselab import MouselabEnv\n",
    "from distributions import Normal, Categorical\n",
    "from policies import FixedPlanPolicy, LiederPolicy\n",
    "from bandits import MetaBanditEnv\n",
    "from evaluation import *\n",
    "\n",
    "import warnings\n",
    "warnings.filterwarnings(\"ignore\", \n",
    "                        message=\"The objective has been evaluated at this point before.\")"
   ]
  },
  {
   "cell_type": "markdown",
   "metadata": {},
   "source": [
    "# Temporary Plots and Export Data for Plotting"
   ]
  },
  {
   "cell_type": "code",
   "execution_count": 2,
   "metadata": {
    "collapsed": true
   },
   "outputs": [],
   "source": [
    "datafile = 'data/bandit/9_10_100BO_25OBS.h5'\n",
    "bo10datafile = 'data/bandit/9_10_10BO_25OBS(bo_only).h5'\n",
    "dqndatafile = 'data/bandit_dqn/results/dqn_results_combined.h5'\n",
    "finaldatafile = 'data/bandit/results_combined.h5'\n",
    "\n",
    "n_arms = range(2,6)"
   ]
  },
  {
   "cell_type": "code",
   "execution_count": 3,
   "metadata": {
    "collapsed": true,
    "scrolled": true
   },
   "outputs": [],
   "source": [
    "#load main data\n",
    "store = pd.HDFStore(datafile)\n",
    "df1 = pd.concat([store['data'+str(i)] for i in n_arms])\n",
    "store.close()\n",
    "\n",
    "#load 10 BO iter data\n",
    "store = pd.HDFStore(bo10datafile)\n",
    "df2 = pd.concat([store['data'+str(i)] for i in n_arms])\n",
    "store.close()\n",
    "\n",
    "#load dqn data\n",
    "store = pd.HDFStore(dqndatafile)\n",
    "df3 = store['data']\n",
    "store.close()\n",
    "\n",
    "#fix costs of dqn\n",
    "dqn_costs = df3.cost.unique()\n",
    "regular_costs = df1.cost.unique()\n",
    "for i in range(len(dqn_costs)):\n",
    "   df3.loc[df3['cost'] == dqn_costs[i],'cost'] = regular_costs[i]\n",
    "df = pd.concat([df1,df2,df3])\n",
    "\n",
    "#save combined file\n",
    "store = pd.HDFStore(finaldatafile)\n",
    "store['data'] = df\n",
    "store.close()"
   ]
  },
  {
   "cell_type": "code",
   "execution_count": 4,
   "metadata": {},
   "outputs": [
    {
     "data": {
      "text/plain": [
       "<matplotlib.axes._subplots.AxesSubplot at 0x118d0c668>"
      ]
     },
     "execution_count": 4,
     "metadata": {},
     "output_type": "execute_result"
    },
    {
     "data": {
      "image/png": "[encoded data removed]",
      "text/plain": [
       "<Figure size 432x288 with 1 Axes>"
      ]
     },
     "metadata": {},
     "output_type": "display_data"
    }
   ],
   "source": [
    "error_by_arm = df.groupby('n_arm agent'.split()).util.std().unstack()*1.96/np.sqrt(2000)\n",
    "mean_by_arm = df.groupby('n_arm agent'.split()).util.mean().unstack()\n",
    "mean_by_arm.plot(kind='bar',yerr=error_by_arm, by='cost')"
   ]
  },
  {
   "cell_type": "code",
   "execution_count": 5,
   "metadata": {
    "scrolled": true
   },
   "outputs": [
    {
     "data": {
      "text/html": [
       "<div>\n",
       "<style>\n",
       "    .dataframe thead tr:only-child th {\n",
       "        text-align: right;\n",
       "    }\n",
       "\n",
       "    .dataframe thead th {\n",
       "        text-align: left;\n",
       "    }\n",
       "\n",
       "    .dataframe tbody tr th {\n",
       "        vertical-align: top;\n",
       "    }\n",
       "</style>\n",
       "<table border=\"1\" class=\"dataframe\">\n",
       "  <thead>\n",
       "    <tr style=\"text-align: right;\">\n",
       "      <th>agent</th>\n",
       "      <th>BO</th>\n",
       "      <th>BO10</th>\n",
       "      <th>blinkered</th>\n",
       "      <th>dqn</th>\n",
       "      <th>full-observation</th>\n",
       "      <th>meta-greedy</th>\n",
       "      <th>optimal</th>\n",
       "    </tr>\n",
       "    <tr>\n",
       "      <th>n_arm</th>\n",
       "      <th></th>\n",
       "      <th></th>\n",
       "      <th></th>\n",
       "      <th></th>\n",
       "      <th></th>\n",
       "      <th></th>\n",
       "      <th></th>\n",
       "    </tr>\n",
       "  </thead>\n",
       "  <tbody>\n",
       "    <tr>\n",
       "      <th>2</th>\n",
       "      <td>0.599788</td>\n",
       "      <td>0.598806</td>\n",
       "      <td>0.600328</td>\n",
       "      <td>0.556585</td>\n",
       "      <td>0.131777</td>\n",
       "      <td>0.564436</td>\n",
       "      <td>0.601904</td>\n",
       "    </tr>\n",
       "    <tr>\n",
       "      <th>3</th>\n",
       "      <td>0.648150</td>\n",
       "      <td>0.647949</td>\n",
       "      <td>0.649519</td>\n",
       "      <td>0.553821</td>\n",
       "      <td>0.194429</td>\n",
       "      <td>0.596537</td>\n",
       "      <td>0.654370</td>\n",
       "    </tr>\n",
       "    <tr>\n",
       "      <th>4</th>\n",
       "      <td>0.674501</td>\n",
       "      <td>0.673973</td>\n",
       "      <td>0.678143</td>\n",
       "      <td>0.596617</td>\n",
       "      <td>0.231100</td>\n",
       "      <td>0.613268</td>\n",
       "      <td>0.682703</td>\n",
       "    </tr>\n",
       "    <tr>\n",
       "      <th>5</th>\n",
       "      <td>0.693610</td>\n",
       "      <td>0.693451</td>\n",
       "      <td>0.695798</td>\n",
       "      <td>0.612441</td>\n",
       "      <td>0.259850</td>\n",
       "      <td>0.621850</td>\n",
       "      <td>0.699610</td>\n",
       "    </tr>\n",
       "  </tbody>\n",
       "</table>\n",
       "</div>"
      ],
      "text/plain": [
       "agent        BO      BO10  blinkered       dqn  full-observation  meta-greedy  \\\n",
       "n_arm                                                                           \n",
       "2      0.599788  0.598806   0.600328  0.556585          0.131777     0.564436   \n",
       "3      0.648150  0.647949   0.649519  0.553821          0.194429     0.596537   \n",
       "4      0.674501  0.673973   0.678143  0.596617          0.231100     0.613268   \n",
       "5      0.693610  0.693451   0.695798  0.612441          0.259850     0.621850   \n",
       "\n",
       "agent   optimal  \n",
       "n_arm            \n",
       "2      0.601904  \n",
       "3      0.654370  \n",
       "4      0.682703  \n",
       "5      0.699610  "
      ]
     },
     "execution_count": 5,
     "metadata": {},
     "output_type": "execute_result"
    }
   ],
   "source": [
    "mean_by_arm"
   ]
  },
  {
   "cell_type": "code",
   "execution_count": 16,
   "metadata": {
    "collapsed": true
   },
   "outputs": [],
   "source": [
    "mean_by_arm.to_csv('data/bandit/plot/mean_by_arm')\n",
    "error_by_arm.to_csv('data/bandit/plot/error_by_arm')"
   ]
  },
  {
   "cell_type": "code",
   "execution_count": 10,
   "metadata": {},
   "outputs": [
    {
     "data": {
      "text/plain": [
       "<matplotlib.axes._subplots.AxesSubplot at 0x11992d470>"
      ]
     },
     "execution_count": 10,
     "metadata": {},
     "output_type": "execute_result"
    },
    {
     "data": {
      "image/png": "[encoded data removed]",
      "text/plain": [
       "<Figure size 432x288 with 1 Axes>"
      ]
     },
     "metadata": {},
     "output_type": "display_data"
    }
   ],
   "source": [
    "df2 = df[df['cost']!=0.1]\n",
    "error_by_arm2 = df2.groupby('n_arm agent'.split()).util.std().unstack()*1.96/np.sqrt(2000)\n",
    "mean_by_arm2 = df2.groupby('n_arm agent'.split()).util.mean().unstack()\n",
    "mean_by_arm2.plot(kind='bar',yerr=error_by_arm2, by='cost')"
   ]
  },
  {
   "cell_type": "code",
   "execution_count": 12,
   "metadata": {
    "collapsed": true
   },
   "outputs": [],
   "source": [
    "mean_by_arm2.to_csv('data/bandit/plot/mean_by_arm2')\n",
    "error_by_arm2.to_csv('data/bandit/plot/error_by_arm2')"
   ]
  },
  {
   "cell_type": "code",
   "execution_count": 17,
   "metadata": {},
   "outputs": [
    {
     "data": {
      "text/plain": [
       "(0.4, 0.8)"
      ]
     },
     "execution_count": 17,
     "metadata": {},
     "output_type": "execute_result"
    },
    {
     "data": {
      "image/png": "[encoded data removed]",
      "text/plain": [
       "<Figure size 432x288 with 1 Axes>"
      ]
     },
     "metadata": {},
     "output_type": "display_data"
    }
   ],
   "source": [
    "error_by_cost = df.groupby('cost agent'.split()).util.std().unstack()*1.96/np.sqrt(2000)\n",
    "mean_by_cost = df.groupby('cost agent'.split()).util.mean().unstack()\n",
    "mean_by_cost.plot(yerr=error_by_cost, logx=True, by='n_arm')\n",
    "plt.ylim(0.4,0.8)"
   ]
  },
  {
   "cell_type": "code",
   "execution_count": 18,
   "metadata": {},
   "outputs": [
    {
     "data": {
      "text/html": [
       "<div>\n",
       "<style>\n",
       "    .dataframe thead tr:only-child th {\n",
       "        text-align: right;\n",
       "    }\n",
       "\n",
       "    .dataframe thead th {\n",
       "        text-align: left;\n",
       "    }\n",
       "\n",
       "    .dataframe tbody tr th {\n",
       "        vertical-align: top;\n",
       "    }\n",
       "</style>\n",
       "<table border=\"1\" class=\"dataframe\">\n",
       "  <thead>\n",
       "    <tr style=\"text-align: right;\">\n",
       "      <th>agent</th>\n",
       "      <th>BO</th>\n",
       "      <th>BO10</th>\n",
       "      <th>blinkered</th>\n",
       "      <th>dqn</th>\n",
       "      <th>full-observation</th>\n",
       "      <th>meta-greedy</th>\n",
       "      <th>optimal</th>\n",
       "    </tr>\n",
       "    <tr>\n",
       "      <th>cost</th>\n",
       "      <th></th>\n",
       "      <th></th>\n",
       "      <th></th>\n",
       "      <th></th>\n",
       "      <th></th>\n",
       "      <th></th>\n",
       "      <th></th>\n",
       "    </tr>\n",
       "  </thead>\n",
       "  <tbody>\n",
       "    <tr>\n",
       "      <th>0.000100</th>\n",
       "      <td>0.723667</td>\n",
       "      <td>0.727594</td>\n",
       "      <td>0.735907</td>\n",
       "      <td>0.691444</td>\n",
       "      <td>0.723447</td>\n",
       "      <td>0.626513</td>\n",
       "      <td>0.736958</td>\n",
       "    </tr>\n",
       "    <tr>\n",
       "      <th>0.000316</th>\n",
       "      <td>0.722955</td>\n",
       "      <td>0.725467</td>\n",
       "      <td>0.732527</td>\n",
       "      <td>0.703896</td>\n",
       "      <td>0.715979</td>\n",
       "      <td>0.628285</td>\n",
       "      <td>0.735956</td>\n",
       "    </tr>\n",
       "    <tr>\n",
       "      <th>0.001000</th>\n",
       "      <td>0.713864</td>\n",
       "      <td>0.713808</td>\n",
       "      <td>0.715909</td>\n",
       "      <td>0.658932</td>\n",
       "      <td>0.706216</td>\n",
       "      <td>0.624896</td>\n",
       "      <td>0.722207</td>\n",
       "    </tr>\n",
       "    <tr>\n",
       "      <th>0.003162</th>\n",
       "      <td>0.690062</td>\n",
       "      <td>0.687361</td>\n",
       "      <td>0.687136</td>\n",
       "      <td>0.622140</td>\n",
       "      <td>0.645001</td>\n",
       "      <td>0.622835</td>\n",
       "      <td>0.697721</td>\n",
       "    </tr>\n",
       "    <tr>\n",
       "      <th>0.010000</th>\n",
       "      <td>0.647907</td>\n",
       "      <td>0.642153</td>\n",
       "      <td>0.641529</td>\n",
       "      <td>0.438604</td>\n",
       "      <td>0.480316</td>\n",
       "      <td>0.611988</td>\n",
       "      <td>0.645379</td>\n",
       "    </tr>\n",
       "    <tr>\n",
       "      <th>0.031623</th>\n",
       "      <td>0.579629</td>\n",
       "      <td>0.578433</td>\n",
       "      <td>0.578621</td>\n",
       "      <td>0.448712</td>\n",
       "      <td>-0.067638</td>\n",
       "      <td>0.578641</td>\n",
       "      <td>0.579307</td>\n",
       "    </tr>\n",
       "    <tr>\n",
       "      <th>0.100000</th>\n",
       "      <td>0.500000</td>\n",
       "      <td>0.500000</td>\n",
       "      <td>0.500000</td>\n",
       "      <td>0.495333</td>\n",
       "      <td>-1.773298</td>\n",
       "      <td>0.500000</td>\n",
       "      <td>0.500000</td>\n",
       "    </tr>\n",
       "  </tbody>\n",
       "</table>\n",
       "</div>"
      ],
      "text/plain": [
       "agent           BO      BO10  blinkered       dqn  full-observation  \\\n",
       "cost                                                                  \n",
       "0.000100  0.723667  0.727594   0.735907  0.691444          0.723447   \n",
       "0.000316  0.722955  0.725467   0.732527  0.703896          0.715979   \n",
       "0.001000  0.713864  0.713808   0.715909  0.658932          0.706216   \n",
       "0.003162  0.690062  0.687361   0.687136  0.622140          0.645001   \n",
       "0.010000  0.647907  0.642153   0.641529  0.438604          0.480316   \n",
       "0.031623  0.579629  0.578433   0.578621  0.448712         -0.067638   \n",
       "0.100000  0.500000  0.500000   0.500000  0.495333         -1.773298   \n",
       "\n",
       "agent     meta-greedy   optimal  \n",
       "cost                             \n",
       "0.000100     0.626513  0.736958  \n",
       "0.000316     0.628285  0.735956  \n",
       "0.001000     0.624896  0.722207  \n",
       "0.003162     0.622835  0.697721  \n",
       "0.010000     0.611988  0.645379  \n",
       "0.031623     0.578641  0.579307  \n",
       "0.100000     0.500000  0.500000  "
      ]
     },
     "execution_count": 18,
     "metadata": {},
     "output_type": "execute_result"
    }
   ],
   "source": [
    "mean_by_cost"
   ]
  },
  {
   "cell_type": "code",
   "execution_count": 19,
   "metadata": {
    "collapsed": true
   },
   "outputs": [],
   "source": [
    "mean_by_cost.to_csv('data/bandit/plot/mean_by_cost')\n",
    "error_by_cost.to_csv('data/bandit/plot/error_by_cost')"
   ]
  },
  {
   "cell_type": "markdown",
   "metadata": {},
   "source": [
    "# Reported Results"
   ]
  },
  {
   "cell_type": "code",
   "execution_count": 20,
   "metadata": {
    "collapsed": true
   },
   "outputs": [],
   "source": [
    "mean = mean_by_cost"
   ]
  },
  {
   "cell_type": "code",
   "execution_count": 21,
   "metadata": {
    "scrolled": true
   },
   "outputs": [
    {
     "data": {
      "text/plain": [
       "cost\n",
       "0.000100   -0.011281\n",
       "0.000316   -0.009592\n",
       "0.001000   -0.002909\n",
       "0.003162    0.000323\n",
       "0.010000    0.000966\n",
       "0.031623   -0.000324\n",
       "0.100000    0.000000\n",
       "dtype: float64"
      ]
     },
     "execution_count": 21,
     "metadata": {},
     "output_type": "execute_result"
    }
   ],
   "source": [
    "(mean.BO10-mean.blinkered)/mean.optimal"
   ]
  },
  {
   "cell_type": "code",
   "execution_count": 22,
   "metadata": {},
   "outputs": [
    {
     "data": {
      "text/plain": [
       "cost\n",
       "0.000100   -0.012706\n",
       "0.000316   -0.014252\n",
       "0.001000   -0.011630\n",
       "0.003162   -0.014848\n",
       "0.010000   -0.004998\n",
       "0.031623   -0.001510\n",
       "0.100000    0.000000\n",
       "dtype: float64"
      ]
     },
     "execution_count": 22,
     "metadata": {},
     "output_type": "execute_result"
    }
   ],
   "source": [
    "(mean.BO10-mean.optimal)/mean.optimal"
   ]
  },
  {
   "cell_type": "code",
   "execution_count": 23,
   "metadata": {},
   "outputs": [
    {
     "data": {
      "text/plain": [
       "0.6535450630519463"
      ]
     },
     "execution_count": 23,
     "metadata": {},
     "output_type": "execute_result"
    }
   ],
   "source": [
    "mean.BO10.mean()"
   ]
  },
  {
   "cell_type": "code",
   "execution_count": 24,
   "metadata": {},
   "outputs": [
    {
     "data": {
      "text/plain": [
       "0.20428908953600095"
      ]
     },
     "execution_count": 24,
     "metadata": {},
     "output_type": "execute_result"
    }
   ],
   "source": [
    "mean['full-observation'].mean()"
   ]
  },
  {
   "cell_type": "code",
   "execution_count": 25,
   "metadata": {},
   "outputs": [
    {
     "data": {
      "text/plain": [
       "0.599022625485519"
      ]
     },
     "execution_count": 25,
     "metadata": {},
     "output_type": "execute_result"
    }
   ],
   "source": [
    "mean['meta-greedy'].mean()"
   ]
  },
  {
   "cell_type": "code",
   "execution_count": 26,
   "metadata": {},
   "outputs": [
    {
     "data": {
      "text/plain": [
       "0.579865888806257"
      ]
     },
     "execution_count": 26,
     "metadata": {},
     "output_type": "execute_result"
    }
   ],
   "source": [
    "mean['dqn'].mean()"
   ]
  },
  {
   "cell_type": "code",
   "execution_count": 23,
   "metadata": {},
   "outputs": [
    {
     "data": {
      "text/plain": [
       "0.6596469105827926"
      ]
     },
     "execution_count": 23,
     "metadata": {},
     "output_type": "execute_result"
    }
   ],
   "source": [
    "mean.optimal.mean()"
   ]
  },
  {
   "cell_type": "code",
   "execution_count": 24,
   "metadata": {},
   "outputs": [
    {
     "data": {
      "text/plain": [
       "99.07498277745964"
      ]
     },
     "execution_count": 24,
     "metadata": {},
     "output_type": "execute_result"
    }
   ],
   "source": [
    "100*mean.BO10.mean()/mean.optimal.mean()"
   ]
  },
  {
   "cell_type": "code",
   "execution_count": 25,
   "metadata": {},
   "outputs": [
    {
     "data": {
      "text/plain": [
       "0.6559469655571967"
      ]
     },
     "execution_count": 25,
     "metadata": {},
     "output_type": "execute_result"
    }
   ],
   "source": [
    "mean.blinkered.mean()"
   ]
  },
  {
   "cell_type": "code",
   "execution_count": 26,
   "metadata": {},
   "outputs": [
    {
     "data": {
      "text/plain": [
       "-0.3675190344234145"
      ]
     },
     "execution_count": 26,
     "metadata": {},
     "output_type": "execute_result"
    }
   ],
   "source": [
    "(mean.BO10.mean()-mean.blinkered.mean())/mean.BO10.mean()*100"
   ]
  },
  {
   "cell_type": "code",
   "execution_count": 28,
   "metadata": {},
   "outputs": [
    {
     "data": {
      "text/plain": [
       "-0.9336536798781244"
      ]
     },
     "execution_count": 28,
     "metadata": {},
     "output_type": "execute_result"
    }
   ],
   "source": [
    "(mean.BO10.mean()-mean.optimal.mean())/mean.BO10.mean()*100"
   ]
  },
  {
   "cell_type": "markdown",
   "metadata": {},
   "source": [
    "# Export Data for ANOVA (MATLAB)"
   ]
  },
  {
   "cell_type": "code",
   "execution_count": 29,
   "metadata": {},
   "outputs": [
    {
     "name": "stderr",
     "output_type": "stream",
     "text": [
      "/Users/sayangul/anaconda/lib/python3.6/site-packages/pandas/core/generic.py:3110: SettingWithCopyWarning: \n",
      "A value is trying to be set on a copy of a slice from a DataFrame.\n",
      "Try using .loc[row_indexer,col_indexer] = value instead\n",
      "\n",
      "See the caveats in the documentation: http://pandas.pydata.org/pandas-docs/stable/indexing.html#indexing-view-versus-copy\n",
      "  self[name] = value\n",
      "/Users/sayangul/anaconda/lib/python3.6/site-packages/ipykernel_launcher.py:6: SettingWithCopyWarning: \n",
      "A value is trying to be set on a copy of a slice from a DataFrame.\n",
      "Try using .loc[row_indexer,col_indexer] = value instead\n",
      "\n",
      "See the caveats in the documentation: http://pandas.pydata.org/pandas-docs/stable/indexing.html#indexing-view-versus-copy\n",
      "  \n"
     ]
    }
   ],
   "source": [
    "store = pd.HDFStore(finaldatafile)\n",
    "df = store['data']\n",
    "store.close()\n",
    "dfs = df[['agent','n_arm','cost','util']]\n",
    "dfs.agent = pd.Categorical(dfs.agent)\n",
    "dfs['category'] = dfs.agent.cat.codes\n",
    "dfs = dfs[['category','n_arm','cost','util']]\n",
    "dfs.to_csv('dfs')"
   ]
  },
  {
   "cell_type": "markdown",
   "metadata": {},
   "source": [
    "# Hypothesis driven t-tests "
   ]
  },
  {
   "cell_type": "markdown",
   "metadata": {},
   "source": [
    "## Method averaged across number of arms and costs"
   ]
  },
  {
   "cell_type": "code",
   "execution_count": 30,
   "metadata": {},
   "outputs": [
    {
     "name": "stdout",
     "output_type": "stream",
     "text": [
      "blinkered: t = -3.06921407231    p = 0.0021609211878\n",
      "full-observation: t = 469.141045132    p = 0.0\n",
      "meta-greedy: t = 83.9193015418    p = 0.0\n",
      "optimal: t = -7.43442544084    p = 1.27815572879e-13\n",
      "dqn: t = 79.2243708788    p = 0.0\n"
     ]
    }
   ],
   "source": [
    "store = pd.HDFStore(finaldatafile)\n",
    "df = store['data']\n",
    "store.close()\n",
    "df['index1'] = df.index\n",
    "mean_methods = df.groupby(['index1', 'agent']).util.mean().unstack()\n",
    "# mean_across = df.groupby('index agent').util.mean().unstack()\n",
    "# mean_across\n",
    "a = mean_methods['BO10']\n",
    "other_agents =  ['blinkered','full-observation','meta-greedy','optimal','dqn']\n",
    "for agent in other_agents:\n",
    "    b = mean_methods[agent]\n",
    "    t, p = scipy.stats.ttest_ind(a, b, equal_var=False)\n",
    "    print(agent+': t = '+str(t)+'    p = '+str(p))"
   ]
  },
  {
   "cell_type": "code",
   "execution_count": 31,
   "metadata": {},
   "outputs": [
    {
     "name": "stdout",
     "output_type": "stream",
     "text": [
      "t = -4.8359025084    p = 1.37585292682e-06\n"
     ]
    }
   ],
   "source": [
    "a = mean_methods['blinkered']\n",
    "b = mean_methods['optimal']\n",
    "t,p=scipy.stats.ttest_ind(a, b, equal_var=False)\n",
    "print('t = '+str(t)+'    p = '+str(p))"
   ]
  },
  {
   "cell_type": "markdown",
   "metadata": {},
   "source": [
    "## Method averaged across number of arms"
   ]
  },
  {
   "cell_type": "code",
   "execution_count": 32,
   "metadata": {},
   "outputs": [
    {
     "name": "stdout",
     "output_type": "stream",
     "text": [
      "14000\n",
      "blinkered\n",
      "cost = 0.0001   t = -3.22185652241   p = 0.00128396205094\n",
      "cost = 0.000316227766017   t = -2.74271303194   p = 0.0061207046479\n",
      "cost = 0.001   t = -0.858543896599   p = 0.390644309896\n",
      "cost = 0.00316227766017   t = 0.10988560516   p = 0.912505641036\n",
      "cost = 0.01   t = 0.288059618266   p = 0.773317170029\n",
      "cost = 0.0316227766017   t = -0.15387754513   p = 0.877714058795\n",
      "cost = 0.1   t = nan   p = nan\n",
      "full-observation\n",
      "cost = 0.0001   t = 1.47002596763   p = 0.141633835765\n",
      "cost = 0.000316227766017   t = 3.44811059472   p = 0.000570369307076\n",
      "cost = 0.001   t = 2.83461306345   p = 0.00461126616515\n",
      "cost = 0.00316227766017   t = 16.6540667769   p = 4.36163258389e-60\n",
      "cost = 0.01   t = 61.79904513   p = 0.0\n",
      "cost = 0.0316227766017   t = 286.836050632   p = 0.0\n",
      "cost = 0.1   t = 1165.02678334   p = 0.0\n",
      "meta-greedy\n",
      "cost = 0.0001   t = 49.2893679189   p = 0.0\n",
      "cost = 0.000316227766017   t = 47.9982618327   p = 0.0\n",
      "cost = 0.001   t = 45.2782265562   p = 0.0\n",
      "cost = 0.00316227766017   t = 38.7555781812   p = 1.07595976768e-264\n",
      "cost = 0.01   t = 16.0390277964   p = 2.22368639589e-55\n",
      "cost = 0.0316227766017   t = -0.170329620708   p = 0.864759537585\n",
      "cost = 0.1   t = nan   p = nan\n",
      "optimal\n",
      "cost = 0.0001   t = -3.50389311822   p = 0.000463540708497\n",
      "cost = 0.000316227766017   t = -3.97969789976   p = 7.02276648517e-05\n",
      "cost = 0.001   t = -3.28015486257   p = 0.00104639617437\n",
      "cost = 0.00316227766017   t = -4.64044057669   p = 3.58908420537e-06\n",
      "cost = 0.01   t = -1.39855150057   p = 0.16202625209\n",
      "cost = 0.0316227766017   t = -0.694154289259   p = 0.487625860441\n",
      "cost = 0.1   t = nan   p = nan\n",
      "dqn\n",
      "cost = 0.0001   t = 13.9777222919   p = 2.25660495019e-43\n",
      "cost = 0.000316227766017   t = 8.243835389   p = 2.23887666381e-16\n",
      "cost = 0.001   t = 22.8409877225   p = 1.71541446661e-108\n",
      "cost = 0.00316227766017   t = 27.0793962758   p = 7.63961499237e-148\n",
      "cost = 0.01   t = 78.1216953042   p = 0.0\n",
      "cost = 0.0316227766017   t = 43.013794673   p = 5.50417178811e-299\n",
      "cost = 0.1   t = 10.0179654196   p = 4.40668508246e-23\n"
     ]
    }
   ],
   "source": [
    "store = pd.HDFStore(finaldatafile)\n",
    "df = store['data']\n",
    "store.close()\n",
    "df['index1'] = df.index\n",
    "bo_costs = df[df.agent == 'BO10'].groupby(['index1', 'cost']).util.mean().unstack()\n",
    "print(bo_costs.size)\n",
    "for agent in other_agents:\n",
    "    print(agent)\n",
    "    oa_costs = df[df.agent == agent].groupby(['index1', 'cost']).util.mean().unstack()\n",
    "    for cost in bo_costs.keys():\n",
    "        t, p = scipy.stats.ttest_ind(bo_costs[cost], oa_costs[cost], equal_var=False)\n",
    "        print('cost = ' +str(cost)+'   t = '+str(t)+'   p = '+str(p))"
   ]
  },
  {
   "cell_type": "markdown",
   "metadata": {},
   "source": [
    "## Performance difference between optimal and BO (between 2 and 5 arms)"
   ]
  },
  {
   "cell_type": "code",
   "execution_count": 37,
   "metadata": {},
   "outputs": [
    {
     "data": {
      "text/html": [
       "<div>\n",
       "<style>\n",
       "    .dataframe thead tr:only-child th {\n",
       "        text-align: right;\n",
       "    }\n",
       "\n",
       "    .dataframe thead th {\n",
       "        text-align: left;\n",
       "    }\n",
       "\n",
       "    .dataframe tbody tr th {\n",
       "        vertical-align: top;\n",
       "    }\n",
       "</style>\n",
       "<table border=\"1\" class=\"dataframe\">\n",
       "  <thead>\n",
       "    <tr style=\"text-align: right;\">\n",
       "      <th></th>\n",
       "      <th>agent</th>\n",
       "      <th>cost</th>\n",
       "      <th>max_obs</th>\n",
       "      <th>n_arm</th>\n",
       "      <th>observations</th>\n",
       "      <th>util</th>\n",
       "      <th>index1</th>\n",
       "    </tr>\n",
       "  </thead>\n",
       "  <tbody>\n",
       "    <tr>\n",
       "      <th>0</th>\n",
       "      <td>optimal</td>\n",
       "      <td>0.031623</td>\n",
       "      <td>25</td>\n",
       "      <td>2</td>\n",
       "      <td>1</td>\n",
       "      <td>0.468377</td>\n",
       "      <td>0</td>\n",
       "    </tr>\n",
       "    <tr>\n",
       "      <th>1</th>\n",
       "      <td>optimal</td>\n",
       "      <td>0.031623</td>\n",
       "      <td>25</td>\n",
       "      <td>2</td>\n",
       "      <td>1</td>\n",
       "      <td>0.468377</td>\n",
       "      <td>1</td>\n",
       "    </tr>\n",
       "    <tr>\n",
       "      <th>2</th>\n",
       "      <td>optimal</td>\n",
       "      <td>0.031623</td>\n",
       "      <td>25</td>\n",
       "      <td>2</td>\n",
       "      <td>1</td>\n",
       "      <td>0.468377</td>\n",
       "      <td>2</td>\n",
       "    </tr>\n",
       "    <tr>\n",
       "      <th>3</th>\n",
       "      <td>optimal</td>\n",
       "      <td>0.031623</td>\n",
       "      <td>25</td>\n",
       "      <td>2</td>\n",
       "      <td>1</td>\n",
       "      <td>0.468377</td>\n",
       "      <td>3</td>\n",
       "    </tr>\n",
       "    <tr>\n",
       "      <th>4</th>\n",
       "      <td>optimal</td>\n",
       "      <td>0.031623</td>\n",
       "      <td>25</td>\n",
       "      <td>2</td>\n",
       "      <td>1</td>\n",
       "      <td>0.468377</td>\n",
       "      <td>4</td>\n",
       "    </tr>\n",
       "    <tr>\n",
       "      <th>5</th>\n",
       "      <td>optimal</td>\n",
       "      <td>0.031623</td>\n",
       "      <td>25</td>\n",
       "      <td>2</td>\n",
       "      <td>1</td>\n",
       "      <td>0.468377</td>\n",
       "      <td>5</td>\n",
       "    </tr>\n",
       "    <tr>\n",
       "      <th>6</th>\n",
       "      <td>optimal</td>\n",
       "      <td>0.031623</td>\n",
       "      <td>25</td>\n",
       "      <td>2</td>\n",
       "      <td>1</td>\n",
       "      <td>0.468377</td>\n",
       "      <td>6</td>\n",
       "    </tr>\n",
       "    <tr>\n",
       "      <th>7</th>\n",
       "      <td>optimal</td>\n",
       "      <td>0.031623</td>\n",
       "      <td>25</td>\n",
       "      <td>2</td>\n",
       "      <td>1</td>\n",
       "      <td>0.635044</td>\n",
       "      <td>7</td>\n",
       "    </tr>\n",
       "    <tr>\n",
       "      <th>8</th>\n",
       "      <td>optimal</td>\n",
       "      <td>0.031623</td>\n",
       "      <td>25</td>\n",
       "      <td>2</td>\n",
       "      <td>1</td>\n",
       "      <td>0.468377</td>\n",
       "      <td>8</td>\n",
       "    </tr>\n",
       "    <tr>\n",
       "      <th>9</th>\n",
       "      <td>optimal</td>\n",
       "      <td>0.031623</td>\n",
       "      <td>25</td>\n",
       "      <td>2</td>\n",
       "      <td>1</td>\n",
       "      <td>0.468377</td>\n",
       "      <td>9</td>\n",
       "    </tr>\n",
       "    <tr>\n",
       "      <th>10</th>\n",
       "      <td>optimal</td>\n",
       "      <td>0.031623</td>\n",
       "      <td>25</td>\n",
       "      <td>2</td>\n",
       "      <td>1</td>\n",
       "      <td>0.635044</td>\n",
       "      <td>10</td>\n",
       "    </tr>\n",
       "    <tr>\n",
       "      <th>11</th>\n",
       "      <td>optimal</td>\n",
       "      <td>0.031623</td>\n",
       "      <td>25</td>\n",
       "      <td>2</td>\n",
       "      <td>1</td>\n",
       "      <td>0.468377</td>\n",
       "      <td>11</td>\n",
       "    </tr>\n",
       "    <tr>\n",
       "      <th>12</th>\n",
       "      <td>optimal</td>\n",
       "      <td>0.031623</td>\n",
       "      <td>25</td>\n",
       "      <td>2</td>\n",
       "      <td>1</td>\n",
       "      <td>0.635044</td>\n",
       "      <td>12</td>\n",
       "    </tr>\n",
       "    <tr>\n",
       "      <th>13</th>\n",
       "      <td>optimal</td>\n",
       "      <td>0.031623</td>\n",
       "      <td>25</td>\n",
       "      <td>2</td>\n",
       "      <td>1</td>\n",
       "      <td>0.635044</td>\n",
       "      <td>13</td>\n",
       "    </tr>\n",
       "    <tr>\n",
       "      <th>14</th>\n",
       "      <td>optimal</td>\n",
       "      <td>0.031623</td>\n",
       "      <td>25</td>\n",
       "      <td>2</td>\n",
       "      <td>1</td>\n",
       "      <td>0.635044</td>\n",
       "      <td>14</td>\n",
       "    </tr>\n",
       "    <tr>\n",
       "      <th>15</th>\n",
       "      <td>optimal</td>\n",
       "      <td>0.031623</td>\n",
       "      <td>25</td>\n",
       "      <td>2</td>\n",
       "      <td>1</td>\n",
       "      <td>0.468377</td>\n",
       "      <td>15</td>\n",
       "    </tr>\n",
       "    <tr>\n",
       "      <th>16</th>\n",
       "      <td>optimal</td>\n",
       "      <td>0.031623</td>\n",
       "      <td>25</td>\n",
       "      <td>2</td>\n",
       "      <td>1</td>\n",
       "      <td>0.468377</td>\n",
       "      <td>16</td>\n",
       "    </tr>\n",
       "    <tr>\n",
       "      <th>17</th>\n",
       "      <td>optimal</td>\n",
       "      <td>0.031623</td>\n",
       "      <td>25</td>\n",
       "      <td>2</td>\n",
       "      <td>1</td>\n",
       "      <td>0.635044</td>\n",
       "      <td>17</td>\n",
       "    </tr>\n",
       "    <tr>\n",
       "      <th>18</th>\n",
       "      <td>optimal</td>\n",
       "      <td>0.031623</td>\n",
       "      <td>25</td>\n",
       "      <td>2</td>\n",
       "      <td>1</td>\n",
       "      <td>0.635044</td>\n",
       "      <td>18</td>\n",
       "    </tr>\n",
       "    <tr>\n",
       "      <th>19</th>\n",
       "      <td>optimal</td>\n",
       "      <td>0.031623</td>\n",
       "      <td>25</td>\n",
       "      <td>2</td>\n",
       "      <td>1</td>\n",
       "      <td>0.635044</td>\n",
       "      <td>19</td>\n",
       "    </tr>\n",
       "    <tr>\n",
       "      <th>20</th>\n",
       "      <td>optimal</td>\n",
       "      <td>0.031623</td>\n",
       "      <td>25</td>\n",
       "      <td>2</td>\n",
       "      <td>1</td>\n",
       "      <td>0.635044</td>\n",
       "      <td>20</td>\n",
       "    </tr>\n",
       "    <tr>\n",
       "      <th>21</th>\n",
       "      <td>optimal</td>\n",
       "      <td>0.031623</td>\n",
       "      <td>25</td>\n",
       "      <td>2</td>\n",
       "      <td>1</td>\n",
       "      <td>0.635044</td>\n",
       "      <td>21</td>\n",
       "    </tr>\n",
       "    <tr>\n",
       "      <th>22</th>\n",
       "      <td>optimal</td>\n",
       "      <td>0.031623</td>\n",
       "      <td>25</td>\n",
       "      <td>2</td>\n",
       "      <td>1</td>\n",
       "      <td>0.635044</td>\n",
       "      <td>22</td>\n",
       "    </tr>\n",
       "    <tr>\n",
       "      <th>23</th>\n",
       "      <td>optimal</td>\n",
       "      <td>0.031623</td>\n",
       "      <td>25</td>\n",
       "      <td>2</td>\n",
       "      <td>1</td>\n",
       "      <td>0.635044</td>\n",
       "      <td>23</td>\n",
       "    </tr>\n",
       "    <tr>\n",
       "      <th>24</th>\n",
       "      <td>optimal</td>\n",
       "      <td>0.031623</td>\n",
       "      <td>25</td>\n",
       "      <td>2</td>\n",
       "      <td>1</td>\n",
       "      <td>0.635044</td>\n",
       "      <td>24</td>\n",
       "    </tr>\n",
       "    <tr>\n",
       "      <th>25</th>\n",
       "      <td>optimal</td>\n",
       "      <td>0.031623</td>\n",
       "      <td>25</td>\n",
       "      <td>2</td>\n",
       "      <td>1</td>\n",
       "      <td>0.635044</td>\n",
       "      <td>25</td>\n",
       "    </tr>\n",
       "    <tr>\n",
       "      <th>26</th>\n",
       "      <td>optimal</td>\n",
       "      <td>0.031623</td>\n",
       "      <td>25</td>\n",
       "      <td>2</td>\n",
       "      <td>1</td>\n",
       "      <td>0.468377</td>\n",
       "      <td>26</td>\n",
       "    </tr>\n",
       "    <tr>\n",
       "      <th>27</th>\n",
       "      <td>optimal</td>\n",
       "      <td>0.031623</td>\n",
       "      <td>25</td>\n",
       "      <td>2</td>\n",
       "      <td>1</td>\n",
       "      <td>0.635044</td>\n",
       "      <td>27</td>\n",
       "    </tr>\n",
       "    <tr>\n",
       "      <th>28</th>\n",
       "      <td>optimal</td>\n",
       "      <td>0.031623</td>\n",
       "      <td>25</td>\n",
       "      <td>2</td>\n",
       "      <td>1</td>\n",
       "      <td>0.468377</td>\n",
       "      <td>28</td>\n",
       "    </tr>\n",
       "    <tr>\n",
       "      <th>29</th>\n",
       "      <td>optimal</td>\n",
       "      <td>0.031623</td>\n",
       "      <td>25</td>\n",
       "      <td>2</td>\n",
       "      <td>1</td>\n",
       "      <td>0.635044</td>\n",
       "      <td>29</td>\n",
       "    </tr>\n",
       "    <tr>\n",
       "      <th>...</th>\n",
       "      <td>...</td>\n",
       "      <td>...</td>\n",
       "      <td>...</td>\n",
       "      <td>...</td>\n",
       "      <td>...</td>\n",
       "      <td>...</td>\n",
       "      <td>...</td>\n",
       "    </tr>\n",
       "    <tr>\n",
       "      <th>1970</th>\n",
       "      <td>optimal</td>\n",
       "      <td>0.100000</td>\n",
       "      <td>25</td>\n",
       "      <td>5</td>\n",
       "      <td>0</td>\n",
       "      <td>0.500000</td>\n",
       "      <td>1970</td>\n",
       "    </tr>\n",
       "    <tr>\n",
       "      <th>1971</th>\n",
       "      <td>optimal</td>\n",
       "      <td>0.100000</td>\n",
       "      <td>25</td>\n",
       "      <td>5</td>\n",
       "      <td>0</td>\n",
       "      <td>0.500000</td>\n",
       "      <td>1971</td>\n",
       "    </tr>\n",
       "    <tr>\n",
       "      <th>1972</th>\n",
       "      <td>optimal</td>\n",
       "      <td>0.100000</td>\n",
       "      <td>25</td>\n",
       "      <td>5</td>\n",
       "      <td>0</td>\n",
       "      <td>0.500000</td>\n",
       "      <td>1972</td>\n",
       "    </tr>\n",
       "    <tr>\n",
       "      <th>1973</th>\n",
       "      <td>optimal</td>\n",
       "      <td>0.100000</td>\n",
       "      <td>25</td>\n",
       "      <td>5</td>\n",
       "      <td>0</td>\n",
       "      <td>0.500000</td>\n",
       "      <td>1973</td>\n",
       "    </tr>\n",
       "    <tr>\n",
       "      <th>1974</th>\n",
       "      <td>optimal</td>\n",
       "      <td>0.100000</td>\n",
       "      <td>25</td>\n",
       "      <td>5</td>\n",
       "      <td>0</td>\n",
       "      <td>0.500000</td>\n",
       "      <td>1974</td>\n",
       "    </tr>\n",
       "    <tr>\n",
       "      <th>1975</th>\n",
       "      <td>optimal</td>\n",
       "      <td>0.100000</td>\n",
       "      <td>25</td>\n",
       "      <td>5</td>\n",
       "      <td>0</td>\n",
       "      <td>0.500000</td>\n",
       "      <td>1975</td>\n",
       "    </tr>\n",
       "    <tr>\n",
       "      <th>1976</th>\n",
       "      <td>optimal</td>\n",
       "      <td>0.100000</td>\n",
       "      <td>25</td>\n",
       "      <td>5</td>\n",
       "      <td>0</td>\n",
       "      <td>0.500000</td>\n",
       "      <td>1976</td>\n",
       "    </tr>\n",
       "    <tr>\n",
       "      <th>1977</th>\n",
       "      <td>optimal</td>\n",
       "      <td>0.100000</td>\n",
       "      <td>25</td>\n",
       "      <td>5</td>\n",
       "      <td>0</td>\n",
       "      <td>0.500000</td>\n",
       "      <td>1977</td>\n",
       "    </tr>\n",
       "    <tr>\n",
       "      <th>1978</th>\n",
       "      <td>optimal</td>\n",
       "      <td>0.100000</td>\n",
       "      <td>25</td>\n",
       "      <td>5</td>\n",
       "      <td>0</td>\n",
       "      <td>0.500000</td>\n",
       "      <td>1978</td>\n",
       "    </tr>\n",
       "    <tr>\n",
       "      <th>1979</th>\n",
       "      <td>optimal</td>\n",
       "      <td>0.100000</td>\n",
       "      <td>25</td>\n",
       "      <td>5</td>\n",
       "      <td>0</td>\n",
       "      <td>0.500000</td>\n",
       "      <td>1979</td>\n",
       "    </tr>\n",
       "    <tr>\n",
       "      <th>1980</th>\n",
       "      <td>optimal</td>\n",
       "      <td>0.100000</td>\n",
       "      <td>25</td>\n",
       "      <td>5</td>\n",
       "      <td>0</td>\n",
       "      <td>0.500000</td>\n",
       "      <td>1980</td>\n",
       "    </tr>\n",
       "    <tr>\n",
       "      <th>1981</th>\n",
       "      <td>optimal</td>\n",
       "      <td>0.100000</td>\n",
       "      <td>25</td>\n",
       "      <td>5</td>\n",
       "      <td>0</td>\n",
       "      <td>0.500000</td>\n",
       "      <td>1981</td>\n",
       "    </tr>\n",
       "    <tr>\n",
       "      <th>1982</th>\n",
       "      <td>optimal</td>\n",
       "      <td>0.100000</td>\n",
       "      <td>25</td>\n",
       "      <td>5</td>\n",
       "      <td>0</td>\n",
       "      <td>0.500000</td>\n",
       "      <td>1982</td>\n",
       "    </tr>\n",
       "    <tr>\n",
       "      <th>1983</th>\n",
       "      <td>optimal</td>\n",
       "      <td>0.100000</td>\n",
       "      <td>25</td>\n",
       "      <td>5</td>\n",
       "      <td>0</td>\n",
       "      <td>0.500000</td>\n",
       "      <td>1983</td>\n",
       "    </tr>\n",
       "    <tr>\n",
       "      <th>1984</th>\n",
       "      <td>optimal</td>\n",
       "      <td>0.100000</td>\n",
       "      <td>25</td>\n",
       "      <td>5</td>\n",
       "      <td>0</td>\n",
       "      <td>0.500000</td>\n",
       "      <td>1984</td>\n",
       "    </tr>\n",
       "    <tr>\n",
       "      <th>1985</th>\n",
       "      <td>optimal</td>\n",
       "      <td>0.100000</td>\n",
       "      <td>25</td>\n",
       "      <td>5</td>\n",
       "      <td>0</td>\n",
       "      <td>0.500000</td>\n",
       "      <td>1985</td>\n",
       "    </tr>\n",
       "    <tr>\n",
       "      <th>1986</th>\n",
       "      <td>optimal</td>\n",
       "      <td>0.100000</td>\n",
       "      <td>25</td>\n",
       "      <td>5</td>\n",
       "      <td>0</td>\n",
       "      <td>0.500000</td>\n",
       "      <td>1986</td>\n",
       "    </tr>\n",
       "    <tr>\n",
       "      <th>1987</th>\n",
       "      <td>optimal</td>\n",
       "      <td>0.100000</td>\n",
       "      <td>25</td>\n",
       "      <td>5</td>\n",
       "      <td>0</td>\n",
       "      <td>0.500000</td>\n",
       "      <td>1987</td>\n",
       "    </tr>\n",
       "    <tr>\n",
       "      <th>1988</th>\n",
       "      <td>optimal</td>\n",
       "      <td>0.100000</td>\n",
       "      <td>25</td>\n",
       "      <td>5</td>\n",
       "      <td>0</td>\n",
       "      <td>0.500000</td>\n",
       "      <td>1988</td>\n",
       "    </tr>\n",
       "    <tr>\n",
       "      <th>1989</th>\n",
       "      <td>optimal</td>\n",
       "      <td>0.100000</td>\n",
       "      <td>25</td>\n",
       "      <td>5</td>\n",
       "      <td>0</td>\n",
       "      <td>0.500000</td>\n",
       "      <td>1989</td>\n",
       "    </tr>\n",
       "    <tr>\n",
       "      <th>1990</th>\n",
       "      <td>optimal</td>\n",
       "      <td>0.100000</td>\n",
       "      <td>25</td>\n",
       "      <td>5</td>\n",
       "      <td>0</td>\n",
       "      <td>0.500000</td>\n",
       "      <td>1990</td>\n",
       "    </tr>\n",
       "    <tr>\n",
       "      <th>1991</th>\n",
       "      <td>optimal</td>\n",
       "      <td>0.100000</td>\n",
       "      <td>25</td>\n",
       "      <td>5</td>\n",
       "      <td>0</td>\n",
       "      <td>0.500000</td>\n",
       "      <td>1991</td>\n",
       "    </tr>\n",
       "    <tr>\n",
       "      <th>1992</th>\n",
       "      <td>optimal</td>\n",
       "      <td>0.100000</td>\n",
       "      <td>25</td>\n",
       "      <td>5</td>\n",
       "      <td>0</td>\n",
       "      <td>0.500000</td>\n",
       "      <td>1992</td>\n",
       "    </tr>\n",
       "    <tr>\n",
       "      <th>1993</th>\n",
       "      <td>optimal</td>\n",
       "      <td>0.100000</td>\n",
       "      <td>25</td>\n",
       "      <td>5</td>\n",
       "      <td>0</td>\n",
       "      <td>0.500000</td>\n",
       "      <td>1993</td>\n",
       "    </tr>\n",
       "    <tr>\n",
       "      <th>1994</th>\n",
       "      <td>optimal</td>\n",
       "      <td>0.100000</td>\n",
       "      <td>25</td>\n",
       "      <td>5</td>\n",
       "      <td>0</td>\n",
       "      <td>0.500000</td>\n",
       "      <td>1994</td>\n",
       "    </tr>\n",
       "    <tr>\n",
       "      <th>1995</th>\n",
       "      <td>optimal</td>\n",
       "      <td>0.100000</td>\n",
       "      <td>25</td>\n",
       "      <td>5</td>\n",
       "      <td>0</td>\n",
       "      <td>0.500000</td>\n",
       "      <td>1995</td>\n",
       "    </tr>\n",
       "    <tr>\n",
       "      <th>1996</th>\n",
       "      <td>optimal</td>\n",
       "      <td>0.100000</td>\n",
       "      <td>25</td>\n",
       "      <td>5</td>\n",
       "      <td>0</td>\n",
       "      <td>0.500000</td>\n",
       "      <td>1996</td>\n",
       "    </tr>\n",
       "    <tr>\n",
       "      <th>1997</th>\n",
       "      <td>optimal</td>\n",
       "      <td>0.100000</td>\n",
       "      <td>25</td>\n",
       "      <td>5</td>\n",
       "      <td>0</td>\n",
       "      <td>0.500000</td>\n",
       "      <td>1997</td>\n",
       "    </tr>\n",
       "    <tr>\n",
       "      <th>1998</th>\n",
       "      <td>optimal</td>\n",
       "      <td>0.100000</td>\n",
       "      <td>25</td>\n",
       "      <td>5</td>\n",
       "      <td>0</td>\n",
       "      <td>0.500000</td>\n",
       "      <td>1998</td>\n",
       "    </tr>\n",
       "    <tr>\n",
       "      <th>1999</th>\n",
       "      <td>optimal</td>\n",
       "      <td>0.100000</td>\n",
       "      <td>25</td>\n",
       "      <td>5</td>\n",
       "      <td>0</td>\n",
       "      <td>0.500000</td>\n",
       "      <td>1999</td>\n",
       "    </tr>\n",
       "  </tbody>\n",
       "</table>\n",
       "<p>16000 rows × 7 columns</p>\n",
       "</div>"
      ],
      "text/plain": [
       "        agent      cost  max_obs  n_arm  observations      util  index1\n",
       "0     optimal  0.031623       25      2             1  0.468377       0\n",
       "1     optimal  0.031623       25      2             1  0.468377       1\n",
       "2     optimal  0.031623       25      2             1  0.468377       2\n",
       "3     optimal  0.031623       25      2             1  0.468377       3\n",
       "4     optimal  0.031623       25      2             1  0.468377       4\n",
       "5     optimal  0.031623       25      2             1  0.468377       5\n",
       "6     optimal  0.031623       25      2             1  0.468377       6\n",
       "7     optimal  0.031623       25      2             1  0.635044       7\n",
       "8     optimal  0.031623       25      2             1  0.468377       8\n",
       "9     optimal  0.031623       25      2             1  0.468377       9\n",
       "10    optimal  0.031623       25      2             1  0.635044      10\n",
       "11    optimal  0.031623       25      2             1  0.468377      11\n",
       "12    optimal  0.031623       25      2             1  0.635044      12\n",
       "13    optimal  0.031623       25      2             1  0.635044      13\n",
       "14    optimal  0.031623       25      2             1  0.635044      14\n",
       "15    optimal  0.031623       25      2             1  0.468377      15\n",
       "16    optimal  0.031623       25      2             1  0.468377      16\n",
       "17    optimal  0.031623       25      2             1  0.635044      17\n",
       "18    optimal  0.031623       25      2             1  0.635044      18\n",
       "19    optimal  0.031623       25      2             1  0.635044      19\n",
       "20    optimal  0.031623       25      2             1  0.635044      20\n",
       "21    optimal  0.031623       25      2             1  0.635044      21\n",
       "22    optimal  0.031623       25      2             1  0.635044      22\n",
       "23    optimal  0.031623       25      2             1  0.635044      23\n",
       "24    optimal  0.031623       25      2             1  0.635044      24\n",
       "25    optimal  0.031623       25      2             1  0.635044      25\n",
       "26    optimal  0.031623       25      2             1  0.468377      26\n",
       "27    optimal  0.031623       25      2             1  0.635044      27\n",
       "28    optimal  0.031623       25      2             1  0.468377      28\n",
       "29    optimal  0.031623       25      2             1  0.635044      29\n",
       "...       ...       ...      ...    ...           ...       ...     ...\n",
       "1970  optimal  0.100000       25      5             0  0.500000    1970\n",
       "1971  optimal  0.100000       25      5             0  0.500000    1971\n",
       "1972  optimal  0.100000       25      5             0  0.500000    1972\n",
       "1973  optimal  0.100000       25      5             0  0.500000    1973\n",
       "1974  optimal  0.100000       25      5             0  0.500000    1974\n",
       "1975  optimal  0.100000       25      5             0  0.500000    1975\n",
       "1976  optimal  0.100000       25      5             0  0.500000    1976\n",
       "1977  optimal  0.100000       25      5             0  0.500000    1977\n",
       "1978  optimal  0.100000       25      5             0  0.500000    1978\n",
       "1979  optimal  0.100000       25      5             0  0.500000    1979\n",
       "1980  optimal  0.100000       25      5             0  0.500000    1980\n",
       "1981  optimal  0.100000       25      5             0  0.500000    1981\n",
       "1982  optimal  0.100000       25      5             0  0.500000    1982\n",
       "1983  optimal  0.100000       25      5             0  0.500000    1983\n",
       "1984  optimal  0.100000       25      5             0  0.500000    1984\n",
       "1985  optimal  0.100000       25      5             0  0.500000    1985\n",
       "1986  optimal  0.100000       25      5             0  0.500000    1986\n",
       "1987  optimal  0.100000       25      5             0  0.500000    1987\n",
       "1988  optimal  0.100000       25      5             0  0.500000    1988\n",
       "1989  optimal  0.100000       25      5             0  0.500000    1989\n",
       "1990  optimal  0.100000       25      5             0  0.500000    1990\n",
       "1991  optimal  0.100000       25      5             0  0.500000    1991\n",
       "1992  optimal  0.100000       25      5             0  0.500000    1992\n",
       "1993  optimal  0.100000       25      5             0  0.500000    1993\n",
       "1994  optimal  0.100000       25      5             0  0.500000    1994\n",
       "1995  optimal  0.100000       25      5             0  0.500000    1995\n",
       "1996  optimal  0.100000       25      5             0  0.500000    1996\n",
       "1997  optimal  0.100000       25      5             0  0.500000    1997\n",
       "1998  optimal  0.100000       25      5             0  0.500000    1998\n",
       "1999  optimal  0.100000       25      5             0  0.500000    1999\n",
       "\n",
       "[16000 rows x 7 columns]"
      ]
     },
     "execution_count": 37,
     "metadata": {},
     "output_type": "execute_result"
    }
   ],
   "source": [
    "df[(df.agent=='optimal') & (df.cost > 0.03)]"
   ]
  },
  {
   "cell_type": "code",
   "execution_count": 38,
   "metadata": {},
   "outputs": [
    {
     "name": "stdout",
     "output_type": "stream",
     "text": [
      "0.6152739381153175\n",
      "0.7256933327220975\n",
      "0.6188884754877929\n",
      "0.7328785496105963\n",
      "0.9901958968613332\n",
      "0.9941596305059219\n",
      "t = 1.34151992895\n",
      "p = 0.17983403675\n"
     ]
    }
   ],
   "source": [
    "store = pd.HDFStore(finaldatafile)\n",
    "df = store['data']\n",
    "store.close()\n",
    "df = df[df.cost!=0.1]\n",
    "df['index1'] = df.index\n",
    "\n",
    "bo_2arm = df[(df.n_arm == 2) & (df.agent=='BO10')].groupby(['index1']).util.mean()\n",
    "opt_2arm = df[(df.n_arm == 2) & (df.agent=='optimal')].groupby(['index1']).util.mean()\n",
    "\n",
    "bo_5arm = df[(df.n_arm == 5) & (df.agent=='BO10')].groupby(['index1']).util.mean()\n",
    "opt_5arm = df[(df.n_arm == 5) & (df.agent=='optimal')].groupby(['index1']).util.mean()\n",
    "\n",
    "print(bo_2arm.mean())\n",
    "print(bo_5arm.mean())\n",
    "print(opt_2arm.mean())\n",
    "print(opt_5arm.mean())\n",
    "\n",
    "print(bo_5arm.mean()/opt_5arm.mean())\n",
    "\n",
    "print(bo_2arm.mean()/opt_2arm.mean())\n",
    "\n",
    "t, p = scipy.stats.ttest_ind(bo_2arm-opt_2arm, bo_5arm-opt_5arm, equal_var=False)\n",
    "print('t = ' +str(t))\n",
    "print('p = ' +str(p))"
   ]
  },
  {
   "cell_type": "code",
   "execution_count": 39,
   "metadata": {},
   "outputs": [
    {
     "name": "stdout",
     "output_type": "stream",
     "text": [
      "n_arm = 2\n",
      "t = -1.69636857066\n",
      "p = 0.0898939499804\n",
      "n_arm = 3\n",
      "t = -3.77651761415\n",
      "p = 0.000161350283394\n",
      "n_arm = 4\n",
      "t = -5.66523612009\n",
      "p = 1.57244356077e-08\n",
      "n_arm = 5\n",
      "t = -4.47780372916\n",
      "p = 7.75190825164e-06\n"
     ]
    }
   ],
   "source": [
    "for n_arm in range(2,6):\n",
    "    bo_narm = df[(df.n_arm == n_arm) & (df.agent=='BO10')].groupby(['index1']).util.mean()\n",
    "    opt_narm = df[(df.n_arm == n_arm) & (df.agent=='optimal')].groupby(['index1']).util.mean()\n",
    "    print('n_arm = ' + str(n_arm))\n",
    "    t, p = scipy.stats.ttest_ind(bo_narm, opt_narm, equal_var=False)\n",
    "    print('t = ' +str(t))\n",
    "    print('p = ' +str(p))"
   ]
  },
  {
   "cell_type": "markdown",
   "metadata": {},
   "source": [
    "# Learning Plots"
   ]
  },
  {
   "cell_type": "code",
   "execution_count": 104,
   "metadata": {
    "scrolled": true
   },
   "outputs": [
    {
     "name": "stdout",
     "output_type": "stream",
     "text": [
      "BO: [ 1.     0.412  0.412  0.177  1.   ] -> 0.694 in 146 sec\n",
      "CPU times: user 4min 58s, sys: 22min 2s, total: 27min 1s\n",
      "Wall time: 2min 26s\n"
     ]
    },
    {
     "data": {
      "image/png": "[encoded data removed]",
      "text/plain": [
       "<matplotlib.figure.Figure at 0x2add63479b38>"
      ]
     },
     "metadata": {},
     "output_type": "display_data"
    }
   ],
   "source": [
    "%%time\n",
    "env = MetaBanditEnv(3, 25, np.logspace(-4,-1,7)[3])\n",
    "train_envs = [env] * 1000\n",
    "pol, result = bo_policy(train_envs, max_cost=30, n_jobs=5, n_calls=100, \n",
    "                        verbose=0, normalize_voi=False, return_result=True)\n",
    "\n",
    "from skopt.plots import plot_convergence, plot_evaluations, plot_objective\n",
    "plot_convergence(result)\n",
    "# plot_objective(result)"
   ]
  },
  {
   "cell_type": "code",
   "execution_count": 121,
   "metadata": {
    "collapsed": true
   },
   "outputs": [],
   "source": [
    "def learning_curve(result, n_test=2000, parallel=None):\n",
    "    \"\"\"Returns a learning curve for a BO result.\n",
    "\n",
    "    BO result is output of write_bo_policy() and read_bo_result.()\"\"\"\n",
    "    def loop():\n",
    "        info = result.specs['info']\n",
    "        test_envs = [result_env(result)] * n_test\n",
    "\n",
    "        best_v = -np.inf\n",
    "#         gp = result.models[-1]\n",
    "#         pred_val = -gp.predict(result.x_iters)\n",
    "        pred_val = -result.func_vals\n",
    "        for v, x in zip(pred_val, result.x_iters):\n",
    "            if v > best_v:\n",
    "                best_v = v\n",
    "                theta = x2theta(x, result.specs['info']['normalize'])\n",
    "                util = get_util(LiederPolicy(theta), test_envs, parallel)\n",
    "                mu, sd = util.mean(), util.std()\n",
    "                print('new best {:.3f} {:.3f}'.format(best_v, mu))\n",
    "                sem = sd / np.sqrt(n_test)\n",
    "            yield mu\n",
    "    return list(loop())"
   ]
  },
  {
   "cell_type": "code",
   "execution_count": 163,
   "metadata": {},
   "outputs": [
    {
     "data": {
      "text/plain": [
       "0.01"
      ]
     },
     "execution_count": 163,
     "metadata": {},
     "output_type": "execute_result"
    }
   ],
   "source": [
    "cost = np.logspace(-4,-1,7)[4]\n",
    "cost"
   ]
  },
  {
   "cell_type": "code",
   "execution_count": 162,
   "metadata": {},
   "outputs": [
    {
     "name": "stdout",
     "output_type": "stream",
     "text": [
      "[ 0.576  0.627  0.5    0.5    0.626  0.5    0.666  0.626  0.627  0.575]\n",
      "new best 0.576 0.574\n",
      "new best 0.627 0.629\n",
      "new best 0.666 0.665\n"
     ]
    },
    {
     "data": {
      "image/png": "[encoded data removed]",
      "text/plain": [
       "<matplotlib.figure.Figure at 0x2add7a398a90>"
      ]
     },
     "metadata": {},
     "output_type": "display_data"
    }
   ],
   "source": [
    "n_arm = 4\n",
    "max_obs = 25\n",
    "cost = np.logspace(-4,-1,7)[4]\n",
    "result = read_bo_result(n_arm, max_obs, cost)\n",
    "print(-result.func_vals)\n",
    "env = result_env(result)\n",
    "opt_v = df[(df.n_arm == n_arm) & (df.agent=='optimal') & (df.cost==cost)].util.mean()\n",
    "best = learning_curve(result, n_test=5000)\n",
    "plot_learning(best, opt_value = opt_v)"
   ]
  }
 ],
 "metadata": {
  "anaconda-cloud": {},
  "kernelspec": {
   "display_name": "Python 3",
   "language": "python",
   "name": "python3"
  },
  "language_info": {
   "codemirror_mode": {
    "name": "ipython",
    "version": 3
   },
   "file_extension": ".py",
   "mimetype": "text/x-python",
   "name": "python",
   "nbconvert_exporter": "python",
   "pygments_lexer": "ipython3",
   "version": "3.6.2"
  },
  "nav_menu": {},
  "toc": {
   "navigate_menu": true,
   "number_sections": true,
   "sideBar": true,
   "threshold": 6,
   "toc_cell": false,
   "toc_section_display": "block",
   "toc_window_display": false
  }
 },
 "nbformat": 4,
 "nbformat_minor": 1
}
